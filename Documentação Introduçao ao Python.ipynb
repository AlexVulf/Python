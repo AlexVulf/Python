{
 "cells": [
  {
   "cell_type": "markdown",
   "id": "fea7798e",
   "metadata": {},
   "source": [
    "# Introdução ao Python"
   ]
  },
  {
   "cell_type": "code",
   "execution_count": null,
   "id": "4f9e1ea6",
   "metadata": {},
   "outputs": [],
   "source": [
    "print('Hellol word')"
   ]
  },
  {
   "cell_type": "markdown",
   "id": "7ab3e8df",
   "metadata": {},
   "source": [
    "# Tipo de Variavel\n",
    "#### int = variavel do tipo inteiro que abrange numeros negativos e positivos  **Ex:**. -10, 10, 0 , -1, 1, ...  \n",
    "#### float = variavel do tipo flutuante usada para quando os numeros são quebrados, negattivos ou positivos **Ex:*. -10.1, 10.1, 0.1, -1.1, 1.1, ...\n",
    "#### str = variavel do tipo caracteres sempre são escritas dentro de (\" '' ou ' ')  **Ex**:. 'a', \"b\", 'c', \"@\", \"&\", \"?\", \"#\", '2', ... \n",
    "#### bool = variavel ela sempre vai retorna True(verdadeiro) ou False(falso)\n",
    "\n",
    "A variavel e o nome que damos a um dado que sera armazennado para a execução de uma função.  \n",
    "**Ex:** idade = 21 onde idade é a variavel e o 21 é a entrada de dado do tipo int.  \n",
    "Uma entrada de dados por usuario pode ser dado pelo comando **input** e a saida de dados para o usuario pode ser dado pelo **print**, todo dado de entrada pelo input ele é salvo como uma **string (str)**.  \n",
    "Quando você entra com dados pelo input você precisa colocar o tipo de dados que vai receber na variavel **Ex:** idade = int(input('digite sua idade')).  \n",
    "Os operadores aritiméticos são: **+ (soma), - (subtração), * (multiplicação), \n",
    "/ (divisão), ** (exponencial), % (modulo), // (divisão por inteiro) e math.sqrt (raiz quadrada)**.\n",
    "modulo =  resto de uma divisão que retornara sempre 0 se a divisão não tiver resto e 2 se a divisão tiver resto.\n",
    "divisão por inteiro,  a divisão sempre retornará um numero inteiro 3/2 = 1.5 **mais na divisão por inteiro retornará 1, vai ignorar tono o restantre dos numeros depois do (.)**.  \n",
    "Antes de usar o **math**, você precisa inportar ele, com o comando **import math**."
   ]
  },
  {
   "cell_type": "markdown",
   "id": "4ba755fa",
   "metadata": {},
   "source": [
    "# Exercício  \n",
    "### Escreva um programa onde o usuário digite 2 notas e retorne a média dessa nota"
   ]
  },
  {
   "cell_type": "code",
   "execution_count": null,
   "id": "380e8285",
   "metadata": {},
   "outputs": [],
   "source": [
    "nota1 = float(input('Digite a primeira nota :'))\n",
    "nota2 = float(input('Digite a segunda nota :'))\n",
    "media = (nota1 + nota2) / 2\n",
    "print('sua média é', media)"
   ]
  },
  {
   "cell_type": "markdown",
   "id": "d413f8c6",
   "metadata": {},
   "source": [
    "# Operadores Relacionais  \n",
    "operadores relacional, < (menor), > (maior), == (igual), != (diferente), <= (menor ou igual) e >= (maior ou igual). o poerador relacional fazem comparações para retornar verdadeiro (True) ou Falso (False).  \n",
    "# Operadores Lógicos  \n",
    "Operadores lógicos são: and (e), or (ou) e not (não), sempre serão True ou False.  \n",
    "**Ex and:** o operador end só vai retornar True se as duas entradas forem verdadeiros caso contrario ele retorna False.  \n",
    "**Ex or:** o operador or vai retornar True sempre que uma entrada for verdadeiro se as duas entradas forem False ele retorna False.  \n",
    "**Ex not:** ele é uma negativa da afirmação.  \n",
    "# Tomada de Decisão\n",
    "\n",
    "Estrutura de decisão usamos o if, else e elif."
   ]
  },
  {
   "cell_type": "markdown",
   "id": "fa6e56bd",
   "metadata": {},
   "source": [
    "# Exercício  \n",
    "### Receba 4 notas de um aluno e exiba se ele foi aprovado (nota maios ou igual a 6) recuperação (nota maior ou igual a 4) e reprovado."
   ]
  },
  {
   "cell_type": "code",
   "execution_count": null,
   "id": "0a6f76cb",
   "metadata": {},
   "outputs": [],
   "source": [
    "nota1 = float(input('Digite a primeira nota :'))\n",
    "nota2 = float(input('Digite a segunda nota :'))\n",
    "nota3 = float(input('Digite a terceira nota :'))\n",
    "nota4 = float(input('Digite a quarta nota :'))\n",
    "media = (nota1 + nota2 + nota3 + nota4) / 4\n",
    "if media >= 6:\n",
    "    print('Sua nota foi:', media,\"você foi aprovado\")\n",
    "elif media >= 4:\n",
    "    print('Sua nota foi:', media,'você está de recuperação')\n",
    "else:\n",
    "    print('Sua nota foi:', media,\"você está reprovado\")"
   ]
  },
  {
   "cell_type": "markdown",
   "id": "03ff50c6",
   "metadata": {},
   "source": [
    "# Exercicio 02\n",
    "### Receba 3 números inteiros e exiba o maior deles."
   ]
  },
  {
   "cell_type": "code",
   "execution_count": null,
   "id": "9a348335",
   "metadata": {},
   "outputs": [],
   "source": [
    "n1 = int(input('Digite o numero: '))\n",
    "n2 = int(input('Digite o numero: '))\n",
    "n3 = int(input('Digite o numero: '))\n",
    "\n",
    "if n1 > n2 and n1 > n3:\n",
    "    print('O maior numero é', n1)\n",
    "elif n2 > n1 and n2 > n3:\n",
    "    print('O maior numero é', n2)\n",
    "else:\n",
    "    print('O maior numero é', n3)"
   ]
  },
  {
   "cell_type": "markdown",
   "id": "c68c9ee5",
   "metadata": {},
   "source": [
    "# Exercicio 03\n",
    "### Receba um número e exiba se ele é positivo ou negativo."
   ]
  },
  {
   "cell_type": "code",
   "execution_count": null,
   "id": "b8bf0b13",
   "metadata": {},
   "outputs": [],
   "source": [
    "n = float(input('Digite o numero: '))\n",
    "if n > 0:\n",
    "    print('o número é positivo')\n",
    "elif n < 0:\n",
    "    print('o número é negativo')\n",
    "else:\n",
    "    print('o número é 0')"
   ]
  },
  {
   "cell_type": "markdown",
   "id": "f0cc18fd",
   "metadata": {},
   "source": [
    "# Exercicio 04\n",
    "### Receba F para femininno e M para masculino e exiba o sexo da pessoa."
   ]
  },
  {
   "cell_type": "code",
   "execution_count": null,
   "id": "c596c509",
   "metadata": {},
   "outputs": [],
   "source": [
    "sexo = input('Digite F para feminino e M para masculino: ')\n",
    "\n",
    "if sexo == 'F' or sexo == 'f':\n",
    "    print('Feminino')\n",
    "elif sexo == 'M' or sexo == 'm':\n",
    "    print('Masculino')\n",
    "else:\n",
    "    print('Você não digitou uma entrada inválida')"
   ]
  },
  {
   "cell_type": "markdown",
   "id": "a60ee9a7",
   "metadata": {},
   "source": [
    "# Exercicio 05\n",
    "### Receba uma temperatura em farenheit e exiba em celsius.\n",
    "**formula da conversão c = 5 * f - 32/9**"
   ]
  },
  {
   "cell_type": "code",
   "execution_count": null,
   "id": "97818ac3",
   "metadata": {},
   "outputs": [],
   "source": [
    "t_f = float(input('Digite a temperatura em farenheit: '))\n",
    "t_c = 5 * ((t_f - 32)/9)\n",
    "print('A temperatura Celsius é de ', t_c)"
   ]
  },
  {
   "cell_type": "markdown",
   "id": "5b1e7922",
   "metadata": {},
   "source": [
    "# Laço de Repetição\n",
    "## Laço while\n",
    "O laço de repetição while usamos sempre que não temos certesa de quantas vezes precisaremos repetir o codigo."
   ]
  },
  {
   "cell_type": "code",
   "execution_count": null,
   "id": "34232034",
   "metadata": {},
   "outputs": [],
   "source": [
    "USUARIO = 'alex'\n",
    "SENHA = 'minhasenha123'\n",
    "\n",
    "while True:\n",
    "    usuario = input('Digite seu usuário: ')\n",
    "    senha = input('Digite sua senha: ')\n",
    "    if USUARIO == usuario and SENHA == senha:\n",
    "        print('loginn com sucesso')\n",
    "        break\n",
    "    print('senha ou usuário incorreto tennte novamente!')"
   ]
  },
  {
   "cell_type": "markdown",
   "id": "28bd44c1",
   "metadata": {},
   "source": [
    "# Exercício\n",
    "### Exercicio 01\n",
    "#### Receba um número e mostre a tabuada desse número:\n",
    "**01**"
   ]
  },
  {
   "cell_type": "code",
   "execution_count": null,
   "id": "4d57d122",
   "metadata": {
    "scrolled": true
   },
   "outputs": [],
   "source": [
    "n = int(input('Qual número você deseja saber a tabuada? '))\n",
    "i = 1\n",
    "soma = n\n",
    "while i <=10:\n",
    "    print(n, ' * ', i, '= ', soma)\n",
    "    i += 1\n",
    "    soma = i * n"
   ]
  },
  {
   "cell_type": "markdown",
   "id": "4ce6daf2",
   "metadata": {},
   "source": [
    "**02**"
   ]
  },
  {
   "cell_type": "code",
   "execution_count": null,
   "id": "b1abb601",
   "metadata": {},
   "outputs": [],
   "source": [
    "n = int(input('Qual número você deseja saber a tabuada? '))\n",
    "i = 1\n",
    "soma = n\n",
    "while i <=10:\n",
    "    print(n, ' x ', i, '= ', (n*i))\n",
    "    i += 1"
   ]
  },
  {
   "cell_type": "markdown",
   "id": "f9212a1d",
   "metadata": {},
   "source": [
    "**03**"
   ]
  },
  {
   "cell_type": "code",
   "execution_count": null,
   "id": "82a9e1f7",
   "metadata": {},
   "outputs": [],
   "source": [
    "n = int(input('Qual número você deseja saber a tabuada? '))\n",
    "i = 1\n",
    "soma = n\n",
    "while i <=10:\n",
    "    print(f\"{n} x {i} = {n*i}\")\n",
    "    i += 1"
   ]
  },
  {
   "cell_type": "markdown",
   "id": "d3084ac9",
   "metadata": {},
   "source": [
    "# Exercicio03\n",
    "### Receba um numero e mostre todos os numeros pares de 0 até o número digitado\n"
   ]
  },
  {
   "cell_type": "code",
   "execution_count": null,
   "id": "79488fbe",
   "metadata": {},
   "outputs": [],
   "source": [
    "n = int(input('Digite um número: '))\n",
    "\n",
    "i = 0\n",
    "while i <= n:\n",
    "    if i % 2 == 0:\n",
    "        print(i)\n",
    "    i += 1"
   ]
  },
  {
   "cell_type": "markdown",
   "id": "69220c06",
   "metadata": {},
   "source": [
    "## Laço For\n",
    "O Laço for é usado quando queremos percorrer uma lista, quando temos um numero de repetições ja prevista."
   ]
  },
  {
   "cell_type": "code",
   "execution_count": null,
   "id": "ef97b7f5",
   "metadata": {},
   "outputs": [],
   "source": [
    "for i in range(1, 11):\n",
    "    for j in range(1, 11):\n",
    "        print(f'{i} x {j} = {i*j}')\n",
    "    print('============')"
   ]
  },
  {
   "cell_type": "markdown",
   "id": "22cf2f01",
   "metadata": {},
   "source": [
    "# Exercicio03\n",
    "### Exiba todos os numeros pares entre 1 e 1000"
   ]
  },
  {
   "cell_type": "markdown",
   "id": "172c061f",
   "metadata": {},
   "source": [
    "for i in range(1, 1001):\n",
    "    if i % 2 == 0:\n",
    "        print(i)\n",
    "\n",
    "for i in range(2, 1001, 2):\n",
    "    print(i)"
   ]
  },
  {
   "cell_type": "markdown",
   "id": "44bf1d37",
   "metadata": {},
   "source": [
    "# Criando uma Lista\n",
    "Toda a lista é criada dentro de colchetes nela pode conter varios tipos de informações ao mesmo tempo, **int. float. str.**  \n",
    "Para começarmos uma lista usamos o [ ], **Ex:** nomes = ['alex', 'ricardo', 10, 10.25].  \n",
    "Para inserir valores em uma lista usamos o comando append e insert(o insert serve para você inserir algo na lista em um ponto especifico).  \n",
    "Para remover valores de uma lista usamos o pop e o remove,o pop sempre vai remover o ultimo elemento da lista caso queira remover um item em especifico você deve colocar entre () o index dele, o remove você consegue remover um elemento da lista pelo seu nome.  \n",
    "Para você saber qual é o index de um elemento dentro de uma lista usamos o comando index.  \n",
    "Para ordenar uma lista usamos o comando sort, o sort cria uma lista ordenada crescente do menor para o maior.  \n",
    "Para criarmos uma lista ordenada decrescente usamos o reverse=True.  \n",
    "O comando sorted ele cria uma nova lista ordenada de foma crescente, para colocala em forma decrescente usamos o o comando reverse."
   ]
  },
  {
   "cell_type": "markdown",
   "id": "6fe40c12",
   "metadata": {},
   "source": [
    "# Criando um dicionário\n",
    "O dicionário funciona da mesma forma que uma lista, mais com algumas diferença.\n",
    "Para começarmos um dicionario usamos o { }, o index do dicionário nos que damos o nome para ele diferente da lista que é dado automaticamente **Ex:** cadastro = {'nome': \"Alex\", 'idade': 41, 'altura': 1.98}.\n",
    "Podemos inserir um dicionario dentro de uma lista **Ex** [{'nome': \"Alex\", 'idade': 41, 'altura': 1.98}, {'nome': \"João\", 'idade': 60, 'altura': 1.50}]."
   ]
  },
  {
   "cell_type": "markdown",
   "id": "be89b157",
   "metadata": {},
   "source": [
    "## O código pode ser escrito de forma Funcional e Não Funcional, quanto mais o seu codigo for funcional melhor é para ser entendido e menas linha de código é usado.\n",
    "**Obs: Nem sempre o codigo com menas linha é funcional**"
   ]
  },
  {
   "cell_type": "markdown",
   "id": "87071a55",
   "metadata": {},
   "source": [
    "# Exercicio 01\n",
    "### Receba 3 valores e exiba a soma de todos eles"
   ]
  },
  {
   "cell_type": "markdown",
   "id": "a3c6b2b6",
   "metadata": {},
   "source": [
    "Código Funcional"
   ]
  },
  {
   "cell_type": "code",
   "execution_count": null,
   "id": "8d0e161a",
   "metadata": {},
   "outputs": [],
   "source": [
    "x = [int(input()) for i in range(0,3)]\n",
    "print('Total =', sum(x))"
   ]
  },
  {
   "cell_type": "markdown",
   "id": "59e79835",
   "metadata": {},
   "source": [
    "Não funcional"
   ]
  },
  {
   "cell_type": "code",
   "execution_count": null,
   "id": "37b01248",
   "metadata": {},
   "outputs": [],
   "source": [
    "x = [int(input()) for i in range(0,3)]\n",
    "soma = 0\n",
    "for i in x:\n",
    "    soma = soma + 1\n",
    "print(soma)"
   ]
  },
  {
   "cell_type": "markdown",
   "id": "cb4dbf1f",
   "metadata": {},
   "source": [
    "# Exercicio\n",
    "### Faça um programa que o usuario possa cadastrar n pessoas, armazenanddo seu nome, idade e altura"
   ]
  },
  {
   "cell_type": "markdown",
   "id": "60565f46",
   "metadata": {},
   "source": [
    "**01**"
   ]
  },
  {
   "cell_type": "code",
   "execution_count": null,
   "id": "b65bfa17",
   "metadata": {},
   "outputs": [],
   "source": [
    "pessoas = []\n",
    "while True:\n",
    "    decisao = int(input('digite 1 para cadastrar ou digite 2 para sair'))\n",
    "    if decisao == 2:\n",
    "        break\n",
    "    nome = input(\"Digite o nome: \")\n",
    "    idade = input('Digite a idade: ')\n",
    "    altura = input('Digite a altura: ')\n",
    "    pessoa = {'nome': nome, 'idade': idade, 'altura': altura}\n",
    "    pessoas.append(pessoa)\n",
    "\n",
    "print(pessoas)"
   ]
  },
  {
   "cell_type": "markdown",
   "id": "f6467c1a",
   "metadata": {},
   "source": [
    "**02**"
   ]
  },
  {
   "cell_type": "code",
   "execution_count": null,
   "id": "de42eb20",
   "metadata": {},
   "outputs": [],
   "source": [
    "pessoas = []\n",
    "while True:\n",
    "    decisao = int(input('digite 1 para cadastrar ou digite 2 para sair'))\n",
    "    if decisao == 2:\n",
    "        break\n",
    "    pessoa = {'nome': input(\"Digite o nome: \"), 'idade': input('Digite a idade: '), 'altura': input('Digite a altura: ')}\n",
    "    pessoas.append(pessoa)\n",
    "\n",
    "print(pessoas)"
   ]
  },
  {
   "cell_type": "markdown",
   "id": "f03d9581",
   "metadata": {},
   "source": [
    "**03**"
   ]
  },
  {
   "cell_type": "code",
   "execution_count": null,
   "id": "8df202ee",
   "metadata": {},
   "outputs": [],
   "source": [
    "pessoas = []\n",
    "while True:\n",
    "    decisao = int(input('digite 1 para cadastrar ou digite 2 para sair'))\n",
    "    if decisao == 2:\n",
    "        break\n",
    "    pessoas.append({'nome': input(\"Digite o nome: \"), \n",
    "                    'idade': input('Digite a idade: '), \n",
    "                    'altura': input('Digite a altura: ')})\n",
    "\n",
    "print(pessoas)"
   ]
  },
  {
   "cell_type": "markdown",
   "id": "9e99c1e5",
   "metadata": {},
   "source": [
    "# Função\n",
    "Função é uma sequência de comandos que executa alguma tarefa e que tem um nome. A sua principal finalidade é nos ajudar a organizar programas em pedaços que correspondam a como imaginamos uma solução do problema.  \n",
    "**Ex:** Em um programa precisamos fazer varios tipos de soma para isso criamos a funsão soma dessa forma:  \n",
    "def calcula(x):\n",
    "    soma = 0\n",
    "    for i in x:\n",
    "        soma = soma + i\n",
    "    return soma\n",
    "## Parâmetros da Função\n",
    "O parâmetro da função é todo o argumento passado dentro do **( )**\n",
    "\n",
    "### Parâmetros args e kwargs\n",
    "#### Parâmetro ARGS\n",
    "O parâmetro args e passado dentro da função dessa forma **(*args)**.  \n",
    "Ele serve para receber n valores e empacotar os valores recebidos dentro de uma lista.  \n",
    "**Ex:**  \n",
    "def soma(*args):  \n",
    "    soma = 0  \n",
    "    for i in args:  \n",
    "        soma = soma + i  \n",
    "    print(soma)  \n",
    "soma(1, 2, 3, 4)\n",
    "#### Parâmetro KWARGS\n",
    "O parâmetro kwargs e passado dentro da função dessa forma **(**kwargs)**.  \n",
    "Ele serve para receber n valores e empacotar os valores recebidos dentro de um dicionário.  \n",
    "**Ex:**  \n",
    "def soma(**kwargs):  \n",
    "    print(kwargs)  \n",
    "soma(teste = 1, teste2 = 2, teste3 = 3, teste4 = 4)\n",
    "\n"
   ]
  },
  {
   "cell_type": "markdown",
   "id": "2b13d3a4",
   "metadata": {},
   "source": [
    "# Exercicio 01\n",
    "### Crie uma função calcular onde sera passado n valores e retornara a soma destes valores"
   ]
  },
  {
   "cell_type": "markdown",
   "id": "c010dd97",
   "metadata": {},
   "source": [
    "**01**"
   ]
  },
  {
   "cell_type": "code",
   "execution_count": null,
   "id": "90637a18",
   "metadata": {},
   "outputs": [],
   "source": [
    "def calcula(x):\n",
    "    soma = 0\n",
    "    for i in x:\n",
    "        soma = soma + i\n",
    "    return soma\n",
    "\n",
    "entrada = []\n",
    "valor = input('Digite a para parar ou digite os numeros para somar \\n')\n",
    "while valor != 'a':\n",
    "    entrada.append(float(valor))\n",
    "    valor = input()\n",
    "\n",
    "print(\"Total =\", calcula(entrada))\n",
    "    \n"
   ]
  },
  {
   "cell_type": "markdown",
   "id": "5d6401e6",
   "metadata": {},
   "source": [
    "**02**"
   ]
  },
  {
   "cell_type": "code",
   "execution_count": null,
   "id": "02eac156",
   "metadata": {},
   "outputs": [],
   "source": [
    "def calcula():\n",
    "    entrada = []\n",
    "    valor = input('Digite a para parar ou digite os numeros para somar \\n')\n",
    "    while valor != 'a':\n",
    "        entrada.append(float(valor))\n",
    "        valor = input()\n",
    "    \n",
    "    soma = 0\n",
    "    for i in entrada:\n",
    "        soma = soma + i\n",
    "        \n",
    "    return soma\n",
    "\n",
    "print(\"Total =\", calcula())\n"
   ]
  },
  {
   "cell_type": "markdown",
   "id": "55686691",
   "metadata": {},
   "source": [
    "**03** usando o parametro *args"
   ]
  },
  {
   "cell_type": "code",
   "execution_count": null,
   "id": "eba7b41e",
   "metadata": {},
   "outputs": [],
   "source": [
    "def calcula(*args):\n",
    "    soma = 0\n",
    "    for i in args:\n",
    "        soma += i\n",
    "    return soma\n",
    "\n",
    "entrada = []\n",
    "valor = input()\n",
    "while valor != 'a':\n",
    "    entrada.append(int(valor))\n",
    "    valor = input()\n",
    "\n",
    "print(calcula(*entrada))"
   ]
  },
  {
   "cell_type": "markdown",
   "id": "b4365604",
   "metadata": {},
   "source": [
    "04 usando o parametro *args"
   ]
  },
  {
   "cell_type": "code",
   "execution_count": null,
   "id": "0d987f24",
   "metadata": {},
   "outputs": [],
   "source": [
    "def le_entrada():\n",
    "    entrada = []\n",
    "    valor = input()\n",
    "    while valor != 'a':\n",
    "        entrada.append(int(valor))\n",
    "        valor = input()\n",
    "    return entrada\n",
    "\n",
    "def calcula(*args):\n",
    "    soma = sum(args)\n",
    "    return soma\n",
    "\n",
    "entrada = le_entrada()\n",
    "print(calcula(*entrada))\n"
   ]
  },
  {
   "cell_type": "markdown",
   "id": "53c955f3",
   "metadata": {},
   "source": [
    "# Exeções\n",
    "Exceção é quando uma coisa não ocorre da forma como foi planejada. Pode-se dizer que os programas tem um fluxo normal, e um fluxo excepcional que são as exceções.\n",
    "# # Tratamento de Exeções try, except, finally.\n",
    "O tratamento de exceções impede que o programa seja abortado (paralisado) e, permite que o programador substitua as mensagens de erro da linguagem por uma mensagem mais amigável contendo apenas um código do erro.\n",
    "### Try\n",
    "O comando try é usado para começar um tratamento de exeção.\n",
    "### Except\n",
    "O comando exept é usado para tratar uma exceção.\n",
    "### Finally\n",
    "É um código que sempre será executado independente de ter ou não um erro no código dentro do try\n"
   ]
  },
  {
   "cell_type": "markdown",
   "id": "2e6bc48c",
   "metadata": {},
   "source": [
    "## Exemplo de uso"
   ]
  },
  {
   "cell_type": "code",
   "execution_count": null,
   "id": "70259ca7",
   "metadata": {},
   "outputs": [],
   "source": [
    "try:\n",
    "    x = int(input('Digite um número: '))\n",
    "    print(5/x)\n",
    "except  ValueError:\n",
    "    print('Digite um número inteiro!')\n",
    "except ZeroDivisionError:\n",
    "    print('não digite 0!')\n",
    "finally:\n",
    "    print('Programa encerrado.')   \n",
    "\n",
    "    "
   ]
  },
  {
   "cell_type": "code",
   "execution_count": null,
   "id": "8be6745f",
   "metadata": {},
   "outputs": [],
   "source": [
    "while True:\n",
    "    try:\n",
    "        x = int(input('Digite um número: '))\n",
    "        print(5/x)\n",
    "        break  # Encerra o loop caso o cálculo seja bem sucedido\n",
    "    except ValueError:\n",
    "        print('Digite um número inteiro!')\n",
    "    except ZeroDivisionError:\n",
    "        print('Não digite 0!')\n",
    "    finally:\n",
    "        print('Essa mensagem sempre será exibida.')\n",
    "\n",
    "print('Programa encerrado com sucesso.')\n"
   ]
  },
  {
   "cell_type": "markdown",
   "id": "0de49b46",
   "metadata": {},
   "source": [
    "# # Exeções Raise e Assert.\n",
    "Servem para innvocar Exeções.\n",
    "#### Raise\n",
    "A exeção raise e chamada ela sempre chama uma exeção independente do erro ser falso ou verdadeiro.\n",
    "### Assert\n",
    "A exeção assert ela depende de fazer uma afirmação e essa afirmação volte falso para ela chama uma exeção."
   ]
  },
  {
   "cell_type": "code",
   "execution_count": null,
   "id": "124d4e64",
   "metadata": {},
   "outputs": [],
   "source": [
    "def soma(n1, n2):\n",
    "    if n1 < 0 or n2 < 0:\n",
    "        raise ValueError('não coloque números negativos')\n",
    "    return n1 + n2\n",
    "print(soma(2, 2))"
   ]
  },
  {
   "cell_type": "code",
   "execution_count": null,
   "id": "22bacaa4",
   "metadata": {},
   "outputs": [],
   "source": [
    "def soma(n1, n2):\n",
    "    assert n1 >= 0 and n2 >= 0, 'não coloque números negativos'\n",
    "    return n1 + n2\n",
    "print(soma(2, 2))"
   ]
  },
  {
   "cell_type": "markdown",
   "id": "6a1f2ea5",
   "metadata": {},
   "source": [
    "# Função Geradora\n",
    "A função geradora é dada pelo comando **yield** ajuda a gastar menos locação de memoria na hora de fazer uma função ou um codigo com isso o processamento é mais rapido.  \n",
    "**Exemplo:**  "
   ]
  },
  {
   "cell_type": "code",
   "execution_count": null,
   "id": "2d8b3a1e",
   "metadata": {},
   "outputs": [],
   "source": [
    "def dobro(lista):\n",
    "    for i in lista:\n",
    "        yield i * 2\n",
    "x = dobro(range(0,10+1))\n",
    "for i in x:\n",
    "    print(i)"
   ]
  },
  {
   "cell_type": "markdown",
   "id": "2202814e",
   "metadata": {},
   "source": [
    "# Comandos Funcionais\n",
    "### Função Lambda, Filter e Map\n"
   ]
  },
  {
   "cell_type": "markdown",
   "id": "1fa1efd6",
   "metadata": {},
   "source": [
    "### Lambda\n",
    "Ela sempre te dara um retorno, ela é uma função anônnima.  \n",
    "Funções anônimas podem ser usadas em expressões, mas precisam ser chamadas com argumentos para produzir um resultado.  \n",
    "**Exemplo**"
   ]
  },
  {
   "cell_type": "code",
   "execution_count": null,
   "id": "d1f6a821",
   "metadata": {},
   "outputs": [],
   "source": [
    "x = 100\n",
    "imposto = lambda x: x*0.3\n",
    "print(imposto(x))"
   ]
  },
  {
   "cell_type": "markdown",
   "id": "4956ca2c",
   "metadata": {},
   "source": [
    "### Função Filter\n",
    "Ela é usado para filtar itens dentro de uma lista.  \n",
    "**Exemplo**"
   ]
  },
  {
   "cell_type": "code",
   "execution_count": null,
   "id": "2c2345a4",
   "metadata": {},
   "outputs": [],
   "source": [
    "x = [12, 13, 14, 15, 16, 17, 18, 19, 20, 21, 22, 23, 24, 25, 26]\n",
    "x = list(filter(lambda x: x < 18, x))\n",
    "print(x)"
   ]
  },
  {
   "cell_type": "markdown",
   "id": "8a096f7f",
   "metadata": {},
   "source": [
    "# Função Map\n",
    "Ela altera valores dentro de uma lista.  \n",
    "**Exemplo**"
   ]
  },
  {
   "cell_type": "code",
   "execution_count": null,
   "id": "ee90ec73",
   "metadata": {},
   "outputs": [],
   "source": [
    "x = [i for i in range(12, 26+1)]\n",
    "print(x)\n",
    "x = list(map(lambda x: 10 if x < 18 else(x), x))\n",
    "print(x)"
   ]
  },
  {
   "cell_type": "code",
   "execution_count": null,
   "id": "5beed5e9",
   "metadata": {},
   "outputs": [],
   "source": []
  }
 ],
 "metadata": {
  "kernelspec": {
   "display_name": "Python 3 (ipykernel)",
   "language": "python",
   "name": "python3"
  },
  "language_info": {
   "codemirror_mode": {
    "name": "ipython",
    "version": 3
   },
   "file_extension": ".py",
   "mimetype": "text/x-python",
   "name": "python",
   "nbconvert_exporter": "python",
   "pygments_lexer": "ipython3",
   "version": "3.10.9"
  }
 },
 "nbformat": 4,
 "nbformat_minor": 5
}
